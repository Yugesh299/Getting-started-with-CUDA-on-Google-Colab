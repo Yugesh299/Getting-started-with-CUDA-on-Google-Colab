{
  "nbformat": 4,
  "nbformat_minor": 0,
  "metadata": {
    "colab": {
      "name": "CUDA By Example.ipynb",
      "provenance": [],
      "toc_visible": true,
      "authorship_tag": "ABX9TyOfNk7dI590cLYcN+UgZXHY",
      "include_colab_link": true
    },
    "kernelspec": {
      "name": "python3",
      "display_name": "Python 3"
    },
    "accelerator": "GPU"
  },
  "cells": [
    {
      "cell_type": "markdown",
      "metadata": {
        "id": "view-in-github",
        "colab_type": "text"
      },
      "source": [
        "<a href=\"https://colab.research.google.com/github/Yugesh299/Getting-started-with-CUDA-on-Google-Colab/blob/master/CUDA_By_Example.ipynb\" target=\"_parent\"><img src=\"https://colab.research.google.com/assets/colab-badge.svg\" alt=\"Open In Colab\"/></a>"
      ]
    },
    {
      "cell_type": "markdown",
      "metadata": {
        "id": "xzGyI1un3lpb",
        "colab_type": "text"
      },
      "source": [
        "# **CUDA Installation Commands**"
      ]
    },
    {
      "cell_type": "code",
      "metadata": {
        "id": "EvE59ZIE4RR3",
        "colab_type": "code",
        "colab": {
          "base_uri": "https://localhost:8080/",
          "height": 1000
        },
        "outputId": "60fac158-d9e2-4804-d0f5-55e1b68ec901"
      },
      "source": [
        "!apt-get update;\n",
        "!wget https://developer.nvidia.com/compute/cuda/10.0/Prod/local_installers/cuda-repo-ubuntu1604-10-0-local-10.0.130-410.48_1.0-1_amd64 -O cuda-repo-ubuntu1604-10-0-local-10.0.130-410.48_1.0-1_amd64.deb\n",
        "!dpkg -i cuda-repo-ubuntu1604-10-0-local-10.0.130-410.48_1.0-1_amd64.deb\n",
        "!apt-key add /var/cuda-repo-10-0-local/7fa2af80.pub\n",
        "!apt-get update\n",
        "!apt-get -y install gcc-7 g++-7\n",
        "!apt-get -y install cuda"
      ],
      "execution_count": 1,
      "outputs": [
        {
          "output_type": "stream",
          "text": [
            "\r0% [Working]\r            \rIgn:1 https://developer.download.nvidia.com/compute/cuda/repos/ubuntu1804/x86_64  InRelease\n",
            "\r0% [Waiting for headers] [Waiting for headers] [Waiting for headers] [Waiting f\r                                                                               \rGet:2 https://cloud.r-project.org/bin/linux/ubuntu bionic-cran35/ InRelease [3,626 B]\n",
            "\r0% [Waiting for headers] [Waiting for headers] [2 InRelease 3,626 B/3,626 B 100\r0% [Waiting for headers] [Waiting for headers] [Waiting for headers] [Waiting f\r0% [2 InRelease gpgv 3,626 B] [Waiting for headers] [Waiting for headers] [Wait\r                                                                               \rHit:3 http://archive.ubuntu.com/ubuntu bionic InRelease\n",
            "\r                                                                               \rGet:4 http://security.ubuntu.com/ubuntu bionic-security InRelease [88.7 kB]\n",
            "\r0% [2 InRelease gpgv 3,626 B] [Waiting for headers] [4 InRelease 14.2 kB/88.7 k\r                                                                               \rHit:5 http://ppa.launchpad.net/graphics-drivers/ppa/ubuntu bionic InRelease\n",
            "\r0% [2 InRelease gpgv 3,626 B] [Waiting for headers] [4 InRelease 14.2 kB/88.7 k\r                                                                               \rIgn:6 https://developer.download.nvidia.com/compute/machine-learning/repos/ubuntu1804/x86_64  InRelease\n",
            "\r0% [2 InRelease gpgv 3,626 B] [Waiting for headers] [4 InRelease 14.2 kB/88.7 k\r                                                                               \rGet:7 https://developer.download.nvidia.com/compute/cuda/repos/ubuntu1804/x86_64  Release [697 B]\n",
            "\r0% [2 InRelease gpgv 3,626 B] [Waiting for headers] [4 InRelease 14.2 kB/88.7 k\r                                                                               \rGet:8 https://developer.download.nvidia.com/compute/machine-learning/repos/ubuntu1804/x86_64  Release [564 B]\n",
            "\r0% [2 InRelease gpgv 3,626 B] [Waiting for headers] [4 InRelease 14.2 kB/88.7 k\r                                                                               \rGet:9 https://developer.download.nvidia.com/compute/cuda/repos/ubuntu1804/x86_64  Release.gpg [801 B]\n",
            "\r0% [2 InRelease gpgv 3,626 B] [Waiting for headers] [4 InRelease 14.2 kB/88.7 k\r0% [2 InRelease gpgv 3,626 B] [Waiting for headers] [4 InRelease 14.2 kB/88.7 k\r                                                                               \rGet:10 https://developer.download.nvidia.com/compute/machine-learning/repos/ubuntu1804/x86_64  Release.gpg [833 B]\n",
            "\r0% [2 InRelease gpgv 3,626 B] [Waiting for headers] [4 InRelease 14.2 kB/88.7 k\r0% [2 InRelease gpgv 3,626 B] [Waiting for headers] [4 InRelease 14.2 kB/88.7 k\r                                                                               \rGet:11 http://archive.ubuntu.com/ubuntu bionic-updates InRelease [88.7 kB]\n",
            "\r0% [2 InRelease gpgv 3,626 B] [11 InRelease 15.6 kB/88.7 kB 18%] [4 InRelease 4\r                                                                               \rGet:12 http://ppa.launchpad.net/marutter/c2d4u3.5/ubuntu bionic InRelease [15.4 kB]\n",
            "Get:13 http://archive.ubuntu.com/ubuntu bionic-backports InRelease [74.6 kB]\n",
            "Ign:14 https://developer.download.nvidia.com/compute/cuda/repos/ubuntu1804/x86_64  Packages\n",
            "Get:14 https://developer.download.nvidia.com/compute/cuda/repos/ubuntu1804/x86_64  Packages [151 kB]\n",
            "Get:15 https://developer.download.nvidia.com/compute/machine-learning/repos/ubuntu1804/x86_64  Packages [38.7 kB]\n",
            "Get:16 http://ppa.launchpad.net/marutter/c2d4u3.5/ubuntu bionic/main Sources [1,840 kB]\n",
            "Get:17 http://archive.ubuntu.com/ubuntu bionic-updates/universe amd64 Packages [1,397 kB]\n",
            "Get:18 http://archive.ubuntu.com/ubuntu bionic-updates/main amd64 Packages [1,253 kB]\n",
            "Get:19 http://ppa.launchpad.net/marutter/c2d4u3.5/ubuntu bionic/main amd64 Packages [888 kB]\n",
            "Fetched 5,841 kB in 3s (1,978 kB/s)\n",
            "Reading package lists... Done\n",
            "--2020-06-22 06:09:52--  https://developer.nvidia.com/compute/cuda/10.0/Prod/local_installers/cuda-repo-ubuntu1604-10-0-local-10.0.130-410.48_1.0-1_amd64\n",
            "Resolving developer.nvidia.com (developer.nvidia.com)... 152.199.0.24\n",
            "Connecting to developer.nvidia.com (developer.nvidia.com)|152.199.0.24|:443... connected.\n",
            "HTTP request sent, awaiting response... 302 Found\n",
            "Location: https://developer.download.nvidia.com/compute/cuda/10.0/secure/Prod/local_installers/cuda-repo-ubuntu1604-10-0-local-10.0.130-410.48_1.0-1_amd64.deb?cMO-oNFL-8uRLWfDFrxt3p_ahvOotcLuVHgW4Zj4Se63oVpN5NGXMPC-sCwz8MMk-b0z0JEi8Mnz1SnHyzoGLxl6FUMIS6RQIxdTEaQ_Z-Ikyi480rmTmtIfn5NXjh-Z2H-rnOnCu8XUlce0o2sClVO5OsBIUftjUD4VU8vnQ0yIyxJlCVGh_k8w0_dgtSNwTDcgw4qszVCDw6Knp2pCjrGnr8ZsHfROj5cslwc [following]\n",
            "--2020-06-22 06:09:53--  https://developer.download.nvidia.com/compute/cuda/10.0/secure/Prod/local_installers/cuda-repo-ubuntu1604-10-0-local-10.0.130-410.48_1.0-1_amd64.deb?cMO-oNFL-8uRLWfDFrxt3p_ahvOotcLuVHgW4Zj4Se63oVpN5NGXMPC-sCwz8MMk-b0z0JEi8Mnz1SnHyzoGLxl6FUMIS6RQIxdTEaQ_Z-Ikyi480rmTmtIfn5NXjh-Z2H-rnOnCu8XUlce0o2sClVO5OsBIUftjUD4VU8vnQ0yIyxJlCVGh_k8w0_dgtSNwTDcgw4qszVCDw6Knp2pCjrGnr8ZsHfROj5cslwc\n",
            "Resolving developer.download.nvidia.com (developer.download.nvidia.com)... 152.195.19.142\n",
            "Connecting to developer.download.nvidia.com (developer.download.nvidia.com)|152.195.19.142|:443... connected.\n",
            "HTTP request sent, awaiting response... 200 OK\n",
            "Length: 1698642702 (1.6G) [application/x-deb]\n",
            "Saving to: ‘cuda-repo-ubuntu1604-10-0-local-10.0.130-410.48_1.0-1_amd64.deb’\n",
            "\n",
            "cuda-repo-ubuntu160 100%[===================>]   1.58G   184MB/s    in 8.6s    \n",
            "\n",
            "2020-06-22 06:10:01 (189 MB/s) - ‘cuda-repo-ubuntu1604-10-0-local-10.0.130-410.48_1.0-1_amd64.deb’ saved [1698642702/1698642702]\n",
            "\n",
            "Selecting previously unselected package cuda-repo-ubuntu1604-10-0-local-10.0.130-410.48.\n",
            "(Reading database ... 144328 files and directories currently installed.)\n",
            "Preparing to unpack cuda-repo-ubuntu1604-10-0-local-10.0.130-410.48_1.0-1_amd64.deb ...\n",
            "Unpacking cuda-repo-ubuntu1604-10-0-local-10.0.130-410.48 (1.0-1) ...\n",
            "Setting up cuda-repo-ubuntu1604-10-0-local-10.0.130-410.48 (1.0-1) ...\n",
            "gpg: can't open '/var/cuda-repo-10-0-local/7fa2af80.pub': No such file or directory\n",
            "Get:1 file:/var/cuda-repo-10-0-local-10.0.130-410.48  InRelease\n",
            "Ign:1 file:/var/cuda-repo-10-0-local-10.0.130-410.48  InRelease\n",
            "Get:2 file:/var/cuda-repo-10-0-local-10.0.130-410.48  Release [574 B]\n",
            "Get:2 file:/var/cuda-repo-10-0-local-10.0.130-410.48  Release [574 B]\n",
            "Get:3 file:/var/cuda-repo-10-0-local-10.0.130-410.48  Release.gpg [819 B]\n",
            "Get:3 file:/var/cuda-repo-10-0-local-10.0.130-410.48  Release.gpg [819 B]\n",
            "Hit:4 http://security.ubuntu.com/ubuntu bionic-security InRelease\n",
            "Ign:5 https://developer.download.nvidia.com/compute/cuda/repos/ubuntu1804/x86_64  InRelease\n",
            "Hit:6 http://ppa.launchpad.net/graphics-drivers/ppa/ubuntu bionic InRelease\n",
            "Ign:7 https://developer.download.nvidia.com/compute/machine-learning/repos/ubuntu1804/x86_64  InRelease\n",
            "Hit:8 https://developer.download.nvidia.com/compute/cuda/repos/ubuntu1804/x86_64  Release\n",
            "Hit:9 https://cloud.r-project.org/bin/linux/ubuntu bionic-cran35/ InRelease\n",
            "Hit:10 http://archive.ubuntu.com/ubuntu bionic InRelease\n",
            "Hit:11 https://developer.download.nvidia.com/compute/machine-learning/repos/ubuntu1804/x86_64  Release\n",
            "Get:12 file:/var/cuda-repo-10-0-local-10.0.130-410.48  Packages [20.6 kB]\n",
            "Hit:13 http://archive.ubuntu.com/ubuntu bionic-updates InRelease\n",
            "Hit:14 http://ppa.launchpad.net/marutter/c2d4u3.5/ubuntu bionic InRelease\n",
            "Hit:15 http://archive.ubuntu.com/ubuntu bionic-backports InRelease\n",
            "Reading package lists... Done\n",
            "Reading package lists... Done\n",
            "Building dependency tree       \n",
            "Reading state information... Done\n",
            "g++-7 is already the newest version (7.5.0-3ubuntu1~18.04).\n",
            "g++-7 set to manually installed.\n",
            "gcc-7 is already the newest version (7.5.0-3ubuntu1~18.04).\n",
            "gcc-7 set to manually installed.\n",
            "The following package was automatically installed and is no longer required:\n",
            "  libnvidia-common-440\n",
            "Use 'apt autoremove' to remove it.\n",
            "0 upgraded, 0 newly installed, 0 to remove and 53 not upgraded.\n",
            "Reading package lists... Done\n",
            "Building dependency tree       \n",
            "Reading state information... Done\n",
            "The following package was automatically installed and is no longer required:\n",
            "  libnvidia-common-440\n",
            "Use 'apt autoremove' to remove it.\n",
            "The following additional packages will be installed:\n",
            "  cuda-11-0 cuda-command-line-tools-11-0 cuda-compiler-11-0 cuda-cudart-11-0\n",
            "  cuda-cudart-dev-11-0 cuda-cuobjdump-11-0 cuda-cupti-11-0 cuda-cupti-dev-11-0\n",
            "  cuda-demo-suite-11-0 cuda-documentation-11-0 cuda-driver-dev-11-0\n",
            "  cuda-gdb-11-0 cuda-libraries-11-0 cuda-libraries-dev-11-0 cuda-memcheck-11-0\n",
            "  cuda-nsight-11-0 cuda-nsight-compute-11-0 cuda-nsight-systems-11-0\n",
            "  cuda-nvcc-11-0 cuda-nvdisasm-11-0 cuda-nvml-dev-11-0 cuda-nvprof-11-0\n",
            "  cuda-nvprune-11-0 cuda-nvrtc-11-0 cuda-nvrtc-dev-11-0 cuda-nvtx-11-0\n",
            "  cuda-nvvp-11-0 cuda-runtime-11-0 cuda-samples-11-0 cuda-sanitizer-11-0\n",
            "  cuda-toolkit-11-0 cuda-tools-11-0 cuda-visual-tools-11-0 libcublas-11-0\n",
            "  libcublas-dev-11-0 libcufft-11-0 libcufft-dev-11-0 libcurand-11-0\n",
            "  libcurand-dev-11-0 libcusolver-11-0 libcusolver-dev-11-0 libcusparse-11-0\n",
            "  libcusparse-dev-11-0 libnpp-11-0 libnpp-dev-11-0 libnvjpeg-11-0\n",
            "  libnvjpeg-dev-11-0\n",
            "The following NEW packages will be installed:\n",
            "  cuda cuda-11-0 cuda-command-line-tools-11-0 cuda-compiler-11-0\n",
            "  cuda-cudart-11-0 cuda-cudart-dev-11-0 cuda-cuobjdump-11-0 cuda-cupti-11-0\n",
            "  cuda-cupti-dev-11-0 cuda-demo-suite-11-0 cuda-documentation-11-0\n",
            "  cuda-driver-dev-11-0 cuda-gdb-11-0 cuda-libraries-11-0\n",
            "  cuda-libraries-dev-11-0 cuda-memcheck-11-0 cuda-nsight-11-0\n",
            "  cuda-nsight-compute-11-0 cuda-nsight-systems-11-0 cuda-nvcc-11-0\n",
            "  cuda-nvdisasm-11-0 cuda-nvml-dev-11-0 cuda-nvprof-11-0 cuda-nvprune-11-0\n",
            "  cuda-nvrtc-11-0 cuda-nvrtc-dev-11-0 cuda-nvtx-11-0 cuda-nvvp-11-0\n",
            "  cuda-runtime-11-0 cuda-samples-11-0 cuda-sanitizer-11-0 cuda-toolkit-11-0\n",
            "  cuda-tools-11-0 cuda-visual-tools-11-0 libcublas-11-0 libcublas-dev-11-0\n",
            "  libcufft-11-0 libcufft-dev-11-0 libcurand-11-0 libcurand-dev-11-0\n",
            "  libcusolver-11-0 libcusolver-dev-11-0 libcusparse-11-0 libcusparse-dev-11-0\n",
            "  libnpp-11-0 libnpp-dev-11-0 libnvjpeg-11-0 libnvjpeg-dev-11-0\n",
            "0 upgraded, 48 newly installed, 0 to remove and 53 not upgraded.\n",
            "Need to get 1,506 MB of archives.\n",
            "After this operation, 3,797 MB of additional disk space will be used.\n",
            "Get:1 https://developer.download.nvidia.com/compute/cuda/repos/ubuntu1804/x86_64  cuda-cudart-11-0 11.0.171-1 [129 kB]\n",
            "Get:2 https://developer.download.nvidia.com/compute/cuda/repos/ubuntu1804/x86_64  cuda-nvrtc-11-0 11.0.167-1 [6,513 kB]\n",
            "Get:3 https://developer.download.nvidia.com/compute/cuda/repos/ubuntu1804/x86_64  libcublas-11-0 11.0.0.191-1 [99.9 MB]\n",
            "Get:4 https://developer.download.nvidia.com/compute/cuda/repos/ubuntu1804/x86_64  libcufft-11-0 10.1.3.191-1 [92.6 MB]\n",
            "Get:5 https://developer.download.nvidia.com/compute/cuda/repos/ubuntu1804/x86_64  libcurand-11-0 10.2.0.191-1 [39.0 MB]\n",
            "Get:6 https://developer.download.nvidia.com/compute/cuda/repos/ubuntu1804/x86_64  libcusolver-11-0 10.4.0.191-1 [253 MB]\n",
            "Get:7 https://developer.download.nvidia.com/compute/cuda/repos/ubuntu1804/x86_64  libcusparse-11-0 11.0.0.191-1 [62.3 MB]\n",
            "Get:8 https://developer.download.nvidia.com/compute/cuda/repos/ubuntu1804/x86_64  libnpp-11-0 11.0.0.191-1 [56.2 MB]\n",
            "Get:9 https://developer.download.nvidia.com/compute/cuda/repos/ubuntu1804/x86_64  libnvjpeg-11-0 11.0.0.191-1 [1,386 kB]\n",
            "Get:10 https://developer.download.nvidia.com/compute/cuda/repos/ubuntu1804/x86_64  cuda-libraries-11-0 11.0.1-1 [2,466 B]\n",
            "Get:11 https://developer.download.nvidia.com/compute/cuda/repos/ubuntu1804/x86_64  cuda-runtime-11-0 11.0.1-1 [2,408 B]\n",
            "Get:12 https://developer.download.nvidia.com/compute/cuda/repos/ubuntu1804/x86_64  cuda-cuobjdump-11-0 11.0.167-1 [102 kB]\n",
            "Get:13 https://developer.download.nvidia.com/compute/cuda/repos/ubuntu1804/x86_64  cuda-driver-dev-11-0 11.0.171-1 [25.1 kB]\n",
            "Get:14 https://developer.download.nvidia.com/compute/cuda/repos/ubuntu1804/x86_64  cuda-cudart-dev-11-0 11.0.171-1 [1,659 kB]\n",
            "Get:15 https://developer.download.nvidia.com/compute/cuda/repos/ubuntu1804/x86_64  cuda-nvcc-11-0 11.0.167-1 [21.0 MB]\n",
            "Get:16 https://developer.download.nvidia.com/compute/cuda/repos/ubuntu1804/x86_64  cuda-nvprune-11-0 11.0.167-1 [53.1 kB]\n",
            "Get:17 https://developer.download.nvidia.com/compute/cuda/repos/ubuntu1804/x86_64  cuda-compiler-11-0 11.0.1-1 [2,400 B]\n",
            "Get:18 https://developer.download.nvidia.com/compute/cuda/repos/ubuntu1804/x86_64  cuda-nvrtc-dev-11-0 11.0.167-1 [21.6 kB]\n",
            "Get:19 https://developer.download.nvidia.com/compute/cuda/repos/ubuntu1804/x86_64  libcublas-dev-11-0 11.0.0.191-1 [102 MB]\n",
            "Get:20 https://developer.download.nvidia.com/compute/cuda/repos/ubuntu1804/x86_64  libcufft-dev-11-0 10.1.3.191-1 [170 MB]\n",
            "Get:21 https://developer.download.nvidia.com/compute/cuda/repos/ubuntu1804/x86_64  libcurand-dev-11-0 10.2.0.191-1 [39.2 MB]\n",
            "Get:22 https://developer.download.nvidia.com/compute/cuda/repos/ubuntu1804/x86_64  libcusolver-dev-11-0 10.4.0.191-1 [17.9 MB]\n",
            "Get:23 https://developer.download.nvidia.com/compute/cuda/repos/ubuntu1804/x86_64  libcusparse-dev-11-0 11.0.0.191-1 [62.5 MB]\n",
            "Get:24 https://developer.download.nvidia.com/compute/cuda/repos/ubuntu1804/x86_64  libnpp-dev-11-0 11.0.0.191-1 [57.0 MB]\n",
            "Get:25 https://developer.download.nvidia.com/compute/cuda/repos/ubuntu1804/x86_64  libnvjpeg-dev-11-0 11.0.0.191-1 [1,318 kB]\n",
            "Get:26 https://developer.download.nvidia.com/compute/cuda/repos/ubuntu1804/x86_64  cuda-libraries-dev-11-0 11.0.1-1 [2,484 B]\n",
            "Get:27 https://developer.download.nvidia.com/compute/cuda/repos/ubuntu1804/x86_64  cuda-cupti-11-0 11.0.167-1 [10.3 MB]\n",
            "Get:28 https://developer.download.nvidia.com/compute/cuda/repos/ubuntu1804/x86_64  cuda-cupti-dev-11-0 11.0.167-1 [2,282 kB]\n",
            "Get:29 https://developer.download.nvidia.com/compute/cuda/repos/ubuntu1804/x86_64  cuda-nvdisasm-11-0 11.0.167-1 [28.2 MB]\n",
            "Get:30 https://developer.download.nvidia.com/compute/cuda/repos/ubuntu1804/x86_64  cuda-gdb-11-0 11.0.172-1 [3,829 kB]\n",
            "Get:31 https://developer.download.nvidia.com/compute/cuda/repos/ubuntu1804/x86_64  cuda-memcheck-11-0 11.0.167-1 [144 kB]\n",
            "Get:32 https://developer.download.nvidia.com/compute/cuda/repos/ubuntu1804/x86_64  cuda-nvprof-11-0 11.0.167-1 [1,912 kB]\n",
            "Get:33 https://developer.download.nvidia.com/compute/cuda/repos/ubuntu1804/x86_64  cuda-nvtx-11-0 11.0.167-1 [51.1 kB]\n",
            "Get:34 https://developer.download.nvidia.com/compute/cuda/repos/ubuntu1804/x86_64  cuda-sanitizer-11-0 11.0.167-1 [7,010 kB]\n",
            "Get:35 https://developer.download.nvidia.com/compute/cuda/repos/ubuntu1804/x86_64  cuda-command-line-tools-11-0 11.0.1-1 [2,456 B]\n",
            "Get:36 https://developer.download.nvidia.com/compute/cuda/repos/ubuntu1804/x86_64  cuda-nsight-compute-11-0 11.0.1-1 [3,684 B]\n",
            "Get:37 https://developer.download.nvidia.com/compute/cuda/repos/ubuntu1804/x86_64  cuda-nsight-systems-11-0 11.0.1-1 [3,248 B]\n",
            "Get:38 https://developer.download.nvidia.com/compute/cuda/repos/ubuntu1804/x86_64  cuda-nsight-11-0 11.0.167-1 [119 MB]\n",
            "Get:39 https://developer.download.nvidia.com/compute/cuda/repos/ubuntu1804/x86_64  cuda-nvml-dev-11-0 11.0.167-1 [71.9 kB]\n",
            "Get:40 https://developer.download.nvidia.com/compute/cuda/repos/ubuntu1804/x86_64  cuda-nvvp-11-0 11.0.167-1 [115 MB]\n",
            "Get:41 https://developer.download.nvidia.com/compute/cuda/repos/ubuntu1804/x86_64  cuda-visual-tools-11-0 11.0.1-1 [2,912 B]\n",
            "Get:42 https://developer.download.nvidia.com/compute/cuda/repos/ubuntu1804/x86_64  cuda-tools-11-0 11.0.1-1 [2,360 B]\n",
            "Get:43 https://developer.download.nvidia.com/compute/cuda/repos/ubuntu1804/x86_64  cuda-samples-11-0 11.0.167-1 [68.1 MB]\n",
            "Get:44 https://developer.download.nvidia.com/compute/cuda/repos/ubuntu1804/x86_64  cuda-documentation-11-0 11.0.182-1 [63.1 MB]\n",
            "Get:45 https://developer.download.nvidia.com/compute/cuda/repos/ubuntu1804/x86_64  cuda-toolkit-11-0 11.0.1-1 [2,708 B]\n",
            "Get:46 https://developer.download.nvidia.com/compute/cuda/repos/ubuntu1804/x86_64  cuda-demo-suite-11-0 11.0.167-1 [3,948 kB]\n",
            "Get:47 https://developer.download.nvidia.com/compute/cuda/repos/ubuntu1804/x86_64  cuda-11-0 11.0.1-1 [2,434 B]\n",
            "Get:48 https://developer.download.nvidia.com/compute/cuda/repos/ubuntu1804/x86_64  cuda 11.0.1-1 [2,380 B]\n",
            "Fetched 1,506 MB in 28s (54.2 MB/s)\n",
            "Extracting templates from packages: 100%\n",
            "Selecting previously unselected package cuda-cudart-11-0.\n",
            "(Reading database ... 144408 files and directories currently installed.)\n",
            "Preparing to unpack .../00-cuda-cudart-11-0_11.0.171-1_amd64.deb ...\n",
            "Unpacking cuda-cudart-11-0 (11.0.171-1) ...\n",
            "Selecting previously unselected package cuda-nvrtc-11-0.\n",
            "Preparing to unpack .../01-cuda-nvrtc-11-0_11.0.167-1_amd64.deb ...\n",
            "Unpacking cuda-nvrtc-11-0 (11.0.167-1) ...\n",
            "Selecting previously unselected package libcublas-11-0.\n",
            "Preparing to unpack .../02-libcublas-11-0_11.0.0.191-1_amd64.deb ...\n",
            "Unpacking libcublas-11-0 (11.0.0.191-1) ...\n",
            "Selecting previously unselected package libcufft-11-0.\n",
            "Preparing to unpack .../03-libcufft-11-0_10.1.3.191-1_amd64.deb ...\n",
            "Unpacking libcufft-11-0 (10.1.3.191-1) ...\n",
            "Selecting previously unselected package libcurand-11-0.\n",
            "Preparing to unpack .../04-libcurand-11-0_10.2.0.191-1_amd64.deb ...\n",
            "Unpacking libcurand-11-0 (10.2.0.191-1) ...\n",
            "Selecting previously unselected package libcusolver-11-0.\n",
            "Preparing to unpack .../05-libcusolver-11-0_10.4.0.191-1_amd64.deb ...\n",
            "Unpacking libcusolver-11-0 (10.4.0.191-1) ...\n",
            "Selecting previously unselected package libcusparse-11-0.\n",
            "Preparing to unpack .../06-libcusparse-11-0_11.0.0.191-1_amd64.deb ...\n",
            "Unpacking libcusparse-11-0 (11.0.0.191-1) ...\n",
            "Selecting previously unselected package libnpp-11-0.\n",
            "Preparing to unpack .../07-libnpp-11-0_11.0.0.191-1_amd64.deb ...\n",
            "Unpacking libnpp-11-0 (11.0.0.191-1) ...\n",
            "Selecting previously unselected package libnvjpeg-11-0.\n",
            "Preparing to unpack .../08-libnvjpeg-11-0_11.0.0.191-1_amd64.deb ...\n",
            "Unpacking libnvjpeg-11-0 (11.0.0.191-1) ...\n",
            "Selecting previously unselected package cuda-libraries-11-0.\n",
            "Preparing to unpack .../09-cuda-libraries-11-0_11.0.1-1_amd64.deb ...\n",
            "Unpacking cuda-libraries-11-0 (11.0.1-1) ...\n",
            "Selecting previously unselected package cuda-runtime-11-0.\n",
            "Preparing to unpack .../10-cuda-runtime-11-0_11.0.1-1_amd64.deb ...\n",
            "Unpacking cuda-runtime-11-0 (11.0.1-1) ...\n",
            "Selecting previously unselected package cuda-cuobjdump-11-0.\n",
            "Preparing to unpack .../11-cuda-cuobjdump-11-0_11.0.167-1_amd64.deb ...\n",
            "Unpacking cuda-cuobjdump-11-0 (11.0.167-1) ...\n",
            "Selecting previously unselected package cuda-driver-dev-11-0.\n",
            "Preparing to unpack .../12-cuda-driver-dev-11-0_11.0.171-1_amd64.deb ...\n",
            "Unpacking cuda-driver-dev-11-0 (11.0.171-1) ...\n",
            "Selecting previously unselected package cuda-cudart-dev-11-0.\n",
            "Preparing to unpack .../13-cuda-cudart-dev-11-0_11.0.171-1_amd64.deb ...\n",
            "Unpacking cuda-cudart-dev-11-0 (11.0.171-1) ...\n",
            "Selecting previously unselected package cuda-nvcc-11-0.\n",
            "Preparing to unpack .../14-cuda-nvcc-11-0_11.0.167-1_amd64.deb ...\n",
            "Unpacking cuda-nvcc-11-0 (11.0.167-1) ...\n",
            "Selecting previously unselected package cuda-nvprune-11-0.\n",
            "Preparing to unpack .../15-cuda-nvprune-11-0_11.0.167-1_amd64.deb ...\n",
            "Unpacking cuda-nvprune-11-0 (11.0.167-1) ...\n",
            "Selecting previously unselected package cuda-compiler-11-0.\n",
            "Preparing to unpack .../16-cuda-compiler-11-0_11.0.1-1_amd64.deb ...\n",
            "Unpacking cuda-compiler-11-0 (11.0.1-1) ...\n",
            "Selecting previously unselected package cuda-nvrtc-dev-11-0.\n",
            "Preparing to unpack .../17-cuda-nvrtc-dev-11-0_11.0.167-1_amd64.deb ...\n",
            "Unpacking cuda-nvrtc-dev-11-0 (11.0.167-1) ...\n",
            "Selecting previously unselected package libcublas-dev-11-0.\n",
            "Preparing to unpack .../18-libcublas-dev-11-0_11.0.0.191-1_amd64.deb ...\n",
            "Unpacking libcublas-dev-11-0 (11.0.0.191-1) ...\n",
            "Selecting previously unselected package libcufft-dev-11-0.\n",
            "Preparing to unpack .../19-libcufft-dev-11-0_10.1.3.191-1_amd64.deb ...\n",
            "Unpacking libcufft-dev-11-0 (10.1.3.191-1) ...\n",
            "Selecting previously unselected package libcurand-dev-11-0.\n",
            "Preparing to unpack .../20-libcurand-dev-11-0_10.2.0.191-1_amd64.deb ...\n",
            "Unpacking libcurand-dev-11-0 (10.2.0.191-1) ...\n",
            "Selecting previously unselected package libcusolver-dev-11-0.\n",
            "Preparing to unpack .../21-libcusolver-dev-11-0_10.4.0.191-1_amd64.deb ...\n",
            "Unpacking libcusolver-dev-11-0 (10.4.0.191-1) ...\n",
            "Selecting previously unselected package libcusparse-dev-11-0.\n",
            "Preparing to unpack .../22-libcusparse-dev-11-0_11.0.0.191-1_amd64.deb ...\n",
            "Unpacking libcusparse-dev-11-0 (11.0.0.191-1) ...\n",
            "Selecting previously unselected package libnpp-dev-11-0.\n",
            "Preparing to unpack .../23-libnpp-dev-11-0_11.0.0.191-1_amd64.deb ...\n",
            "Unpacking libnpp-dev-11-0 (11.0.0.191-1) ...\n",
            "Selecting previously unselected package libnvjpeg-dev-11-0.\n",
            "Preparing to unpack .../24-libnvjpeg-dev-11-0_11.0.0.191-1_amd64.deb ...\n",
            "Unpacking libnvjpeg-dev-11-0 (11.0.0.191-1) ...\n",
            "Selecting previously unselected package cuda-libraries-dev-11-0.\n",
            "Preparing to unpack .../25-cuda-libraries-dev-11-0_11.0.1-1_amd64.deb ...\n",
            "Unpacking cuda-libraries-dev-11-0 (11.0.1-1) ...\n",
            "Selecting previously unselected package cuda-cupti-11-0.\n",
            "Preparing to unpack .../26-cuda-cupti-11-0_11.0.167-1_amd64.deb ...\n",
            "Unpacking cuda-cupti-11-0 (11.0.167-1) ...\n",
            "Selecting previously unselected package cuda-cupti-dev-11-0.\n",
            "Preparing to unpack .../27-cuda-cupti-dev-11-0_11.0.167-1_amd64.deb ...\n",
            "Unpacking cuda-cupti-dev-11-0 (11.0.167-1) ...\n",
            "Selecting previously unselected package cuda-nvdisasm-11-0.\n",
            "Preparing to unpack .../28-cuda-nvdisasm-11-0_11.0.167-1_amd64.deb ...\n",
            "Unpacking cuda-nvdisasm-11-0 (11.0.167-1) ...\n",
            "Selecting previously unselected package cuda-gdb-11-0.\n",
            "Preparing to unpack .../29-cuda-gdb-11-0_11.0.172-1_amd64.deb ...\n",
            "Unpacking cuda-gdb-11-0 (11.0.172-1) ...\n",
            "Selecting previously unselected package cuda-memcheck-11-0.\n",
            "Preparing to unpack .../30-cuda-memcheck-11-0_11.0.167-1_amd64.deb ...\n",
            "Unpacking cuda-memcheck-11-0 (11.0.167-1) ...\n",
            "Selecting previously unselected package cuda-nvprof-11-0.\n",
            "Preparing to unpack .../31-cuda-nvprof-11-0_11.0.167-1_amd64.deb ...\n",
            "Unpacking cuda-nvprof-11-0 (11.0.167-1) ...\n",
            "Selecting previously unselected package cuda-nvtx-11-0.\n",
            "Preparing to unpack .../32-cuda-nvtx-11-0_11.0.167-1_amd64.deb ...\n",
            "Unpacking cuda-nvtx-11-0 (11.0.167-1) ...\n",
            "Selecting previously unselected package cuda-sanitizer-11-0.\n",
            "Preparing to unpack .../33-cuda-sanitizer-11-0_11.0.167-1_amd64.deb ...\n",
            "Unpacking cuda-sanitizer-11-0 (11.0.167-1) ...\n",
            "Selecting previously unselected package cuda-command-line-tools-11-0.\n",
            "Preparing to unpack .../34-cuda-command-line-tools-11-0_11.0.1-1_amd64.deb ...\n",
            "Unpacking cuda-command-line-tools-11-0 (11.0.1-1) ...\n",
            "Selecting previously unselected package cuda-nsight-compute-11-0.\n",
            "Preparing to unpack .../35-cuda-nsight-compute-11-0_11.0.1-1_amd64.deb ...\n",
            "Unpacking cuda-nsight-compute-11-0 (11.0.1-1) ...\n",
            "Selecting previously unselected package cuda-nsight-systems-11-0.\n",
            "Preparing to unpack .../36-cuda-nsight-systems-11-0_11.0.1-1_amd64.deb ...\n",
            "Unpacking cuda-nsight-systems-11-0 (11.0.1-1) ...\n",
            "Selecting previously unselected package cuda-nsight-11-0.\n",
            "Preparing to unpack .../37-cuda-nsight-11-0_11.0.167-1_amd64.deb ...\n",
            "Unpacking cuda-nsight-11-0 (11.0.167-1) ...\n",
            "Selecting previously unselected package cuda-nvml-dev-11-0.\n",
            "Preparing to unpack .../38-cuda-nvml-dev-11-0_11.0.167-1_amd64.deb ...\n",
            "Unpacking cuda-nvml-dev-11-0 (11.0.167-1) ...\n",
            "Selecting previously unselected package cuda-nvvp-11-0.\n",
            "Preparing to unpack .../39-cuda-nvvp-11-0_11.0.167-1_amd64.deb ...\n",
            "Unpacking cuda-nvvp-11-0 (11.0.167-1) ...\n",
            "Selecting previously unselected package cuda-visual-tools-11-0.\n",
            "Preparing to unpack .../40-cuda-visual-tools-11-0_11.0.1-1_amd64.deb ...\n",
            "Unpacking cuda-visual-tools-11-0 (11.0.1-1) ...\n",
            "Selecting previously unselected package cuda-tools-11-0.\n",
            "Preparing to unpack .../41-cuda-tools-11-0_11.0.1-1_amd64.deb ...\n",
            "Unpacking cuda-tools-11-0 (11.0.1-1) ...\n",
            "Selecting previously unselected package cuda-samples-11-0.\n",
            "Preparing to unpack .../42-cuda-samples-11-0_11.0.167-1_amd64.deb ...\n",
            "Unpacking cuda-samples-11-0 (11.0.167-1) ...\n",
            "Selecting previously unselected package cuda-documentation-11-0.\n",
            "Preparing to unpack .../43-cuda-documentation-11-0_11.0.182-1_amd64.deb ...\n",
            "Unpacking cuda-documentation-11-0 (11.0.182-1) ...\n",
            "Selecting previously unselected package cuda-toolkit-11-0.\n",
            "Preparing to unpack .../44-cuda-toolkit-11-0_11.0.1-1_amd64.deb ...\n",
            "Unpacking cuda-toolkit-11-0 (11.0.1-1) ...\n",
            "Selecting previously unselected package cuda-demo-suite-11-0.\n",
            "Preparing to unpack .../45-cuda-demo-suite-11-0_11.0.167-1_amd64.deb ...\n",
            "Unpacking cuda-demo-suite-11-0 (11.0.167-1) ...\n",
            "Selecting previously unselected package cuda-11-0.\n",
            "Preparing to unpack .../46-cuda-11-0_11.0.1-1_amd64.deb ...\n",
            "Unpacking cuda-11-0 (11.0.1-1) ...\n",
            "Selecting previously unselected package cuda.\n",
            "Preparing to unpack .../47-cuda_11.0.1-1_amd64.deb ...\n",
            "Unpacking cuda (11.0.1-1) ...\n",
            "Setting up cuda-sanitizer-11-0 (11.0.167-1) ...\n",
            "Setting up cuda-nsight-systems-11-0 (11.0.1-1) ...\n",
            "Setting up cuda-memcheck-11-0 (11.0.167-1) ...\n",
            "Setting up cuda-nvprune-11-0 (11.0.167-1) ...\n",
            "Setting up libcufft-11-0 (10.1.3.191-1) ...\n",
            "Setting up cuda-nsight-11-0 (11.0.167-1) ...\n",
            "Setting up libcusparse-11-0 (11.0.0.191-1) ...\n",
            "Setting up libcublas-11-0 (11.0.0.191-1) ...\n",
            "Setting up cuda-nvdisasm-11-0 (11.0.167-1) ...\n",
            "Setting up libcusolver-11-0 (10.4.0.191-1) ...\n",
            "Setting up cuda-nvrtc-11-0 (11.0.167-1) ...\n",
            "Setting up cuda-nvprof-11-0 (11.0.167-1) ...\n",
            "Setting up libcusolver-dev-11-0 (10.4.0.191-1) ...\n",
            "Setting up cuda-nvtx-11-0 (11.0.167-1) ...\n",
            "Setting up libnpp-11-0 (11.0.0.191-1) ...\n",
            "Setting up libcurand-11-0 (10.2.0.191-1) ...\n",
            "Setting up libcublas-dev-11-0 (11.0.0.191-1) ...\n",
            "Setting up cuda-cuobjdump-11-0 (11.0.167-1) ...\n",
            "Setting up libcurand-dev-11-0 (10.2.0.191-1) ...\n",
            "Setting up libnpp-dev-11-0 (11.0.0.191-1) ...\n",
            "Setting up cuda-nvvp-11-0 (11.0.167-1) ...\n",
            "Setting up cuda-nvml-dev-11-0 (11.0.167-1) ...\n",
            "Setting up libnvjpeg-11-0 (11.0.0.191-1) ...\n",
            "Setting up cuda-driver-dev-11-0 (11.0.171-1) ...\n",
            "Setting up cuda-cudart-11-0 (11.0.171-1) ...\n",
            "Setting up cuda-nsight-compute-11-0 (11.0.1-1) ...\n",
            "Setting up libcufft-dev-11-0 (10.1.3.191-1) ...\n",
            "Setting up libcusparse-dev-11-0 (11.0.0.191-1) ...\n",
            "Setting up cuda-gdb-11-0 (11.0.172-1) ...\n",
            "Setting up libnvjpeg-dev-11-0 (11.0.0.191-1) ...\n",
            "Setting up cuda-cudart-dev-11-0 (11.0.171-1) ...\n",
            "Setting up cuda-libraries-11-0 (11.0.1-1) ...\n",
            "Setting up cuda-nvrtc-dev-11-0 (11.0.167-1) ...\n",
            "Setting up cuda-visual-tools-11-0 (11.0.1-1) ...\n",
            "Setting up cuda-libraries-dev-11-0 (11.0.1-1) ...\n",
            "Setting up cuda-nvcc-11-0 (11.0.167-1) ...\n",
            "Setting up cuda-runtime-11-0 (11.0.1-1) ...\n",
            "Setting up cuda-samples-11-0 (11.0.167-1) ...\n",
            "Setting up cuda-demo-suite-11-0 (11.0.167-1) ...\n",
            "Setting up cuda-compiler-11-0 (11.0.1-1) ...\n",
            "Setting up cuda-documentation-11-0 (11.0.182-1) ...\n",
            "Setting up cuda-cupti-11-0 (11.0.167-1) ...\n",
            "Setting up cuda-cupti-dev-11-0 (11.0.167-1) ...\n",
            "Setting up cuda-command-line-tools-11-0 (11.0.1-1) ...\n",
            "Setting up cuda-tools-11-0 (11.0.1-1) ...\n",
            "Setting up cuda-toolkit-11-0 (11.0.1-1) ...\n",
            "Setting up cuda-11-0 (11.0.1-1) ...\n",
            "Setting up cuda (11.0.1-1) ...\n"
          ],
          "name": "stdout"
        }
      ]
    },
    {
      "cell_type": "code",
      "metadata": {
        "id": "6iiRLGPH4_Uj",
        "colab_type": "code",
        "colab": {}
      },
      "source": [
        "!export PATH=/usr/local/cuda/bin${PATH:+:${PATH}}\n",
        "!export LD_LIBRARY_PATH=/usr/local/cuda/lib64\\${LD_LIBRARY_PATH:+:${LD_LIBRARY_PATH}}"
      ],
      "execution_count": 2,
      "outputs": []
    },
    {
      "cell_type": "markdown",
      "metadata": {
        "id": "_MqUbxOS6dpE",
        "colab_type": "text"
      },
      "source": [
        "Check if CUDA is installed sucessfully"
      ]
    },
    {
      "cell_type": "code",
      "metadata": {
        "id": "qqyJ240j6Ulq",
        "colab_type": "code",
        "colab": {
          "base_uri": "https://localhost:8080/",
          "height": 101
        },
        "outputId": "e593dc23-7309-4c65-d549-acc55bbdf8bf"
      },
      "source": [
        "!/usr/local/cuda/bin/nvcc --version"
      ],
      "execution_count": 3,
      "outputs": [
        {
          "output_type": "stream",
          "text": [
            "nvcc: NVIDIA (R) Cuda compiler driver\n",
            "Copyright (c) 2005-2020 NVIDIA Corporation\n",
            "Built on Wed_May__6_19:09:25_PDT_2020\n",
            "Cuda compilation tools, release 11.0, V11.0.167\n",
            "Build cuda_11.0_bu.TC445_37.28358933_0\n"
          ],
          "name": "stdout"
        }
      ]
    },
    {
      "cell_type": "markdown",
      "metadata": {
        "id": "liMtwtrk6tsd",
        "colab_type": "text"
      },
      "source": [
        "***Install python-nvcc plugin (Run this commmand if you get an error \"Cell magic `%%cu` not found\")***"
      ]
    },
    {
      "cell_type": "code",
      "metadata": {
        "id": "J6CmSSnn6pXf",
        "colab_type": "code",
        "colab": {
          "base_uri": "https://localhost:8080/",
          "height": 218
        },
        "outputId": "8cbc04d3-7e2b-4e45-9bfe-98f6d63d74a0"
      },
      "source": [
        "!pip install git+git://github.com/andreinechaev/nvcc4jupyter.git\n",
        "%load_ext nvcc_plugin"
      ],
      "execution_count": 7,
      "outputs": [
        {
          "output_type": "stream",
          "text": [
            "Collecting git+git://github.com/andreinechaev/nvcc4jupyter.git\n",
            "  Cloning git://github.com/andreinechaev/nvcc4jupyter.git to /tmp/pip-req-build-81afjkr6\n",
            "  Running command git clone -q git://github.com/andreinechaev/nvcc4jupyter.git /tmp/pip-req-build-81afjkr6\n",
            "Building wheels for collected packages: NVCCPlugin\n",
            "  Building wheel for NVCCPlugin (setup.py) ... \u001b[?25l\u001b[?25hdone\n",
            "  Created wheel for NVCCPlugin: filename=NVCCPlugin-0.0.2-cp36-none-any.whl size=4307 sha256=b454b36fa2a25ae35f79b8d5eb33380d932439f492087ac6e4d423539481dcb7\n",
            "  Stored in directory: /tmp/pip-ephem-wheel-cache-xjea5g1m/wheels/10/c2/05/ca241da37bff77d60d31a9174f988109c61ba989e4d4650516\n",
            "Successfully built NVCCPlugin\n",
            "Installing collected packages: NVCCPlugin\n",
            "Successfully installed NVCCPlugin-0.0.2\n",
            "created output directory at /content/src\n",
            "Out bin /content/result.out\n"
          ],
          "name": "stdout"
        }
      ]
    },
    {
      "cell_type": "code",
      "metadata": {
        "id": "1t0BIy9YeiN5",
        "colab_type": "code",
        "colab": {
          "base_uri": "https://localhost:8080/",
          "height": 353
        },
        "outputId": "b654b573-5f04-45c8-f5ca-f540eceee3b5"
      },
      "source": [
        "!nvidia-smi"
      ],
      "execution_count": 4,
      "outputs": [
        {
          "output_type": "stream",
          "text": [
            "Mon Jun 22 06:24:32 2020       \n",
            "+-----------------------------------------------------------------------------+\n",
            "| NVIDIA-SMI 450.36.06    Driver Version: 418.67       CUDA Version: 10.1     |\n",
            "|-------------------------------+----------------------+----------------------+\n",
            "| GPU  Name        Persistence-M| Bus-Id        Disp.A | Volatile Uncorr. ECC |\n",
            "| Fan  Temp  Perf  Pwr:Usage/Cap|         Memory-Usage | GPU-Util  Compute M. |\n",
            "|                               |                      |               MIG M. |\n",
            "|===============================+======================+======================|\n",
            "|   0  Tesla P100-PCIE...  Off  | 00000000:00:04.0 Off |                    0 |\n",
            "| N/A   33C    P0    25W / 250W |      0MiB / 16280MiB |      0%      Default |\n",
            "|                               |                      |                 ERR! |\n",
            "+-------------------------------+----------------------+----------------------+\n",
            "                                                                               \n",
            "+-----------------------------------------------------------------------------+\n",
            "| Processes:                                                                  |\n",
            "|  GPU   GI   CI        PID   Type   Process name                  GPU Memory |\n",
            "|        ID   ID                                                   Usage      |\n",
            "|=============================================================================|\n",
            "|  No running processes found                                                 |\n",
            "+-----------------------------------------------------------------------------+\n"
          ],
          "name": "stdout"
        }
      ]
    },
    {
      "cell_type": "markdown",
      "metadata": {
        "id": "xrMj5fuW66e4",
        "colab_type": "text"
      },
      "source": [
        "Sample Program"
      ]
    },
    {
      "cell_type": "code",
      "metadata": {
        "id": "T2_fzszo600i",
        "colab_type": "code",
        "colab": {
          "base_uri": "https://localhost:8080/",
          "height": 50
        },
        "outputId": "f1148ff0-b86c-40fa-e197-80e09b906aaa"
      },
      "source": [
        "%%cu\n",
        "#include <iostream>\n",
        "#include <math.h>\n",
        "#include <stdlib.h>\n",
        "int main(){ \n",
        "    std::cout << \"Hello there CUDA, looking good on Google colab\" << std::endl;\n",
        "    return 0;\n",
        "}"
      ],
      "execution_count": 9,
      "outputs": [
        {
          "output_type": "stream",
          "text": [
            "Hello there CUDA, looking good on Google colab\n",
            "\n"
          ],
          "name": "stdout"
        }
      ]
    },
    {
      "cell_type": "markdown",
      "metadata": {
        "id": "iJkwATkeontX",
        "colab_type": "text"
      },
      "source": [
        "# CUDA By Example"
      ]
    },
    {
      "cell_type": "markdown",
      "metadata": {
        "id": "h9HQEpNPhRJz",
        "colab_type": "text"
      },
      "source": [
        "Chapter 3"
      ]
    },
    {
      "cell_type": "code",
      "metadata": {
        "id": "qfTnLpAmpAPF",
        "colab_type": "code",
        "colab": {
          "base_uri": "https://localhost:8080/",
          "height": 50
        },
        "outputId": "40c11626-f849-4d64-fcc5-a837e0f559e0"
      },
      "source": [
        "%%cu\n",
        "#include <iostream>\n",
        "#include <stdlib.h>\n",
        "#include <cuda.h>\n",
        "#include <curand.h>\n",
        "__global__ void kernel (void) {\n",
        "    \n",
        "    printf(\"Hello, Kernel!\\n\");\n",
        "    \n",
        "}\n",
        "\n",
        "int main (void){\n",
        "    kernel<<<1,1>>>();\n",
        "    printf(\"Hello, World!\\n\");\n",
        "    return 0;\n",
        "}"
      ],
      "execution_count": 18,
      "outputs": [
        {
          "output_type": "stream",
          "text": [
            "Hello, World!\n",
            "\n"
          ],
          "name": "stdout"
        }
      ]
    },
    {
      "cell_type": "code",
      "metadata": {
        "id": "pSUkfgN3snFe",
        "colab_type": "code",
        "colab": {
          "base_uri": "https://localhost:8080/",
          "height": 386
        },
        "outputId": "8053b167-4daa-40f2-e92e-5f0acc3f0eb5"
      },
      "source": [
        "%%cu\n",
        "#include <iostream>\n",
        "#include <stdio.h>\n",
        "#include <stdlib.h>\n",
        "#include <cuda.h>\n",
        "#define HANDLE_ERROR( err ) (HandleError( err, __FILE__, __LINE__ ))\n",
        "static void HandleError( cudaError_t err,\n",
        "                         const char *file,\n",
        "                         int line ) {\n",
        "    if (err != cudaSuccess) {\n",
        "        printf( \"%s in %s at line %d\\n\", cudaGetErrorString( err ),\n",
        "                file, line );\n",
        "        exit( EXIT_FAILURE );\n",
        "    }\n",
        "}\n",
        "\n",
        "\n",
        "/*CODE*/\n",
        "\n",
        "//Addition\n",
        "__global__ void add(int a, int b, int *c) {\n",
        "    *c = a + b;\n",
        "}\n",
        "\n",
        "int main(void)\n",
        "{\n",
        "    int c;\n",
        "    int *dev_c;\n",
        "    HANDLE_ERROR(cudaMalloc( (void**)&dev_c, sizeof(int) ));\n",
        "    add<<<1,1>>>(2, 7, dev_c);\n",
        "    HANDLE_ERROR(cudaMemcpy( &c, dev_c, sizeof(int),cudaMemcpyDeviceToHost));\n",
        "    printf(\"2 + 7 = %d\\n\", c);\n",
        "    cudaFree(dev_c);\n",
        "\n",
        "\n",
        "//GPU specifications\n",
        " \n",
        "\n",
        "cudaDeviceProp prop;\n",
        "int count;\n",
        "HANDLE_ERROR( cudaGetDeviceCount( &count ) );\n",
        "for (int i=0; i< count; i++) {\n",
        "HANDLE_ERROR( cudaGetDeviceProperties( &prop, i ) );\n",
        "printf( \" --- General Information for device %d ---\\n\", i );\n",
        "printf( \"Name: %s\\n\", prop.name );\n",
        "printf( \"Compute capability: %d.%d\\n\", prop.major, prop.minor );\n",
        "printf( \"Clock rate: %d\\n\", prop.clockRate );\n",
        "printf( \"Device copy overlap: \" );\n",
        "if (prop.deviceOverlap)\n",
        "printf( \"Enabled\\n\" );\n",
        "else\n",
        "printf( \"Disabled\\n\" );\n",
        "printf( \"Kernel execition timeout : \" );\n",
        "if (prop.kernelExecTimeoutEnabled)\n",
        "printf( \"Enabled\\n\" );\n",
        "else\n",
        "printf( \"Disabled\\n\" );\n",
        "printf( \" --- Memory Information for device %d ---\\n\", i );\n",
        "printf( \"Total global mem: %ld\\n\", prop.totalGlobalMem );\n",
        "printf( \"Total constant Mem: %ld\\n\", prop.totalConstMem );\n",
        "printf( \"Max mem pitch: %ld\\n\", prop.memPitch );\n",
        "printf( \"Texture Alignment: %ld\\n\", prop.textureAlignment );\n",
        "printf( \" --- MP Information for device %d ---\\n\", i );\n",
        "printf( \"Multiprocessor count: %d\\n\",\n",
        "prop.multiProcessorCount );\n",
        "printf( \"Shared mem per mp: %ld\\n\", prop.sharedMemPerBlock );\n",
        "printf( \"Registers per mp: %d\\n\", prop.regsPerBlock );\n",
        "printf( \"Threads in warp: %d\\n\", prop.warpSize );\n",
        "printf( \"Max threads per block: %d\\n\",\n",
        "prop.maxThreadsPerBlock );\n",
        "printf( \"Max thread dimensions: (%d, %d, %d)\\n\",\n",
        "prop.maxThreadsDim[0], prop.maxThreadsDim[1],\n",
        "prop.maxThreadsDim[2] );\n",
        "printf( \"Max grid dimensions: (%d, %d, %d)\\n\",\n",
        "prop.maxGridSize[0], prop.maxGridSize[1],\n",
        "prop.maxGridSize[2] );\n",
        "printf( \"\\n\" );\n",
        "}\n",
        " \n",
        "    return 0;\n",
        "}"
      ],
      "execution_count": 4,
      "outputs": [
        {
          "output_type": "stream",
          "text": [
            "2 + 7 = 9\n",
            " --- General Information for device 0 ---\n",
            "Name: Tesla K80\n",
            "Compute capability: 3.7\n",
            "Clock rate: 823500\n",
            "Device copy overlap: Enabled\n",
            "Kernel execition timeout : Disabled\n",
            " --- Memory Information for device 0 ---\n",
            "Total global mem: 11996954624\n",
            "Total constant Mem: 65536\n",
            "Max mem pitch: 2147483647\n",
            "Texture Alignment: 512\n",
            " --- MP Information for device 0 ---\n",
            "Multiprocessor count: 13\n",
            "Shared mem per mp: 49152\n",
            "Registers per mp: 65536\n",
            "Threads in warp: 32\n",
            "Max threads per block: 1024\n",
            "Max thread dimensions: (1024, 1024, 64)\n",
            "Max grid dimensions: (2147483647, 65535, 65535)\n",
            "\n",
            "\n"
          ],
          "name": "stdout"
        }
      ]
    },
    {
      "cell_type": "code",
      "metadata": {
        "id": "t3gpbwWNwVxA",
        "colab_type": "code",
        "colab": {
          "base_uri": "https://localhost:8080/",
          "height": 34
        },
        "outputId": "108c855f-83e3-4056-b901-996257b6cd3f"
      },
      "source": [
        "%%cuda --name my_curand.cu \n",
        "/*\n",
        " * This program uses the host CURAND API to generate 100 \n",
        " * pseudorandom floats.\n",
        " */\n",
        "#include <stdio.h>\n",
        "#include <stdlib.h>\n",
        "#include <cuda.h>\n",
        "#include <curand.h>\n",
        "\n",
        "#define CUDA_CALL(x) do { if((x)!=cudaSuccess) { \\\n",
        "    printf(\"Error at %s:%d\\n\",__FILE__,__LINE__);\\\n",
        "    return EXIT_FAILURE;}} while(0)\n",
        "#define CURAND_CALL(x) do { if((x)!=CURAND_STATUS_SUCCESS) { \\\n",
        "    printf(\"Error at %s:%d\\n\",__FILE__,__LINE__);\\\n",
        "    return EXIT_FAILURE;}} while(0)\n",
        "\n",
        "int main(int argc, char *argv[])\n",
        "{\n",
        "    size_t n = 100;\n",
        "    size_t i;\n",
        "    curandGenerator_t gen;\n",
        "    float *devData, *hostData;\n",
        "\n",
        "    /* Allocate n floats on host */\n",
        "    hostData = (float *)calloc(n, sizeof(float));\n",
        "\n",
        "    /* Allocate n floats on device */\n",
        "    CUDA_CALL(cudaMalloc((void **)&devData, n*sizeof(float)));\n",
        "\n",
        "    /* Create pseudo-random number generator */\n",
        "    CURAND_CALL(curandCreateGenerator(&gen, \n",
        "                CURAND_RNG_PSEUDO_DEFAULT));\n",
        "\n",
        "    /* Set seed */\n",
        "    CURAND_CALL(curandSetPseudoRandomGeneratorSeed(gen, \n",
        "                1234ULL));\n",
        "\n",
        "    /* Generate n floats on device */\n",
        "    CURAND_CALL(curandGenerateUniform(gen, devData, n));\n",
        "\n",
        "    /* Copy device memory to host */\n",
        "    CUDA_CALL(cudaMemcpy(hostData, devData, n * sizeof(float),\n",
        "        cudaMemcpyDeviceToHost));\n",
        "\n",
        "    /* Show result */\n",
        "    for(i = 0; i < n; i++) {\n",
        "        printf(\"%1.4f \", hostData[i]);\n",
        "    }\n",
        "    printf(\"\\n\");\n",
        "\n",
        "    /* Cleanup */\n",
        "    CURAND_CALL(curandDestroyGenerator(gen));\n",
        "    CUDA_CALL(cudaFree(devData));\n",
        "    free(hostData);    \n",
        "    return EXIT_SUCCESS;\n",
        "}"
      ],
      "execution_count": 19,
      "outputs": [
        {
          "output_type": "execute_result",
          "data": {
            "text/plain": [
              "'File written in /content/src/my_curand.cu'"
            ]
          },
          "metadata": {
            "tags": []
          },
          "execution_count": 19
        }
      ]
    },
    {
      "cell_type": "code",
      "metadata": {
        "id": "1TMDxQd7DZ-9",
        "colab_type": "code",
        "colab": {}
      },
      "source": [
        "!nvcc -o /content/src/my_curand /content/src/my_curand.cu -lcurand"
      ],
      "execution_count": 20,
      "outputs": []
    },
    {
      "cell_type": "code",
      "metadata": {
        "id": "yaiPkhQPDbHV",
        "colab_type": "code",
        "colab": {
          "base_uri": "https://localhost:8080/",
          "height": 54
        },
        "outputId": "fb927ade-48a1-4b19-9344-9c0293cba5dc"
      },
      "source": [
        "!/content/src/my_curand"
      ],
      "execution_count": 21,
      "outputs": [
        {
          "output_type": "stream",
          "text": [
            "0.1455 0.8202 0.5504 0.2948 0.9147 0.8690 0.3219 0.7829 0.0113 0.2855 0.7816 0.2338 0.6791 0.2824 0.6299 0.1212 0.4333 0.3831 0.5136 0.2987 0.4166 0.0345 0.0494 0.0467 0.6166 0.6480 0.8685 0.4012 0.0631 0.4972 0.6809 0.9350 0.0704 0.0458 0.1324 0.3785 0.6457 0.9930 0.9952 0.7677 0.3217 0.8210 0.2765 0.2691 0.4579 0.1969 0.9555 0.8739 0.7996 0.3810 0.6662 0.3153 0.9428 0.5006 0.3369 0.1490 0.8637 0.6191 0.6820 0.4573 0.9261 0.5650 0.7117 0.8252 0.8755 0.2216 0.2958 0.4046 0.3896 0.7335 0.7301 0.8154 0.0913 0.0866 0.6974 0.1811 0.5834 0.9255 0.9029 0.0413 0.9522 0.5507 0.7237 0.3976 0.7519 0.4398 0.4638 0.6094 0.7358 0.3272 0.6961 0.4893 0.9698 0.0456 0.2025 0.9491 0.1516 0.0424 0.6149 0.5638 \n"
          ],
          "name": "stdout"
        }
      ]
    },
    {
      "cell_type": "markdown",
      "metadata": {
        "id": "Y3NerhKAhYr7",
        "colab_type": "text"
      },
      "source": [
        "Chapter 4"
      ]
    },
    {
      "cell_type": "code",
      "metadata": {
        "id": "KdRRDWTkhbqs",
        "colab_type": "code",
        "colab": {
          "base_uri": "https://localhost:8080/",
          "height": 34
        },
        "outputId": "560768dc-7058-4450-c0e0-59ca81ad6e60"
      },
      "source": [
        "%%cu\n",
        "\n",
        "//Summing Vectors In C language using CPU\n",
        "#include <iostream>\n",
        "#include <math.h>\n",
        "\n",
        "#define N 1<<20\n",
        "void add( int *a, int *b, int *c ) \n",
        "{\n",
        "int tid = 0; // this is CPU zero, so we start at zero\n",
        "\n",
        "while (tid < N) \n",
        "  {\n",
        "    c[tid] = a[tid] + b[tid];\n",
        "    tid += 1; // we have one CPU, so we increment by one\n",
        "  }\n",
        "}\n",
        "\n",
        "\n",
        "int main( void ) \n",
        "{\n",
        "  int a[N], b[N], c[N];\n",
        "  // fill the arrays 'a' and 'b' on the CPU\n",
        "  for (int i=0; i<N; i++)   \n",
        "  {\n",
        "    a[i] = -i;\n",
        "    b[i] = i * i; \n",
        "  }\n",
        " \n",
        "   add( a, b, c );  //launch the CPU function\n",
        "\n",
        "// display the results\n",
        "for (int i=0; i<N; i++) \n",
        "{\n",
        "  printf( \"%d + %d = %d\\n\", a[i], b[i], c[i] );\n",
        "}\n",
        " \n",
        "return 0;\n",
        "}"
      ],
      "execution_count": 60,
      "outputs": [
        {
          "output_type": "stream",
          "text": [
            "\n"
          ],
          "name": "stdout"
        }
      ]
    },
    {
      "cell_type": "code",
      "metadata": {
        "id": "syWhg6Jlj8b-",
        "colab_type": "code",
        "colab": {
          "base_uri": "https://localhost:8080/",
          "height": 34
        },
        "outputId": "643049cf-5a48-4b9f-a87d-fe810c1d7ba3"
      },
      "source": [
        "%%cuda --name my_vector.cu \n",
        "\n",
        "//Summing Vectors In CUDA language using GPU\n",
        "#include <iostream>\n",
        "#include <stdio.h>\n",
        "#include <stdlib.h>\n",
        "#include <assert.h>\n",
        "#include <cuda.h>\n",
        "//#include \"book.h\"\n",
        "#define HANDLE_ERROR( err ) (HandleError( err, __FILE__, __LINE__ ))\n",
        "static void HandleError( cudaError_t err,\n",
        "                         const char *file,\n",
        "                         int line ) {\n",
        "    if (err != cudaSuccess) {\n",
        "        printf( \"%s in %s at line %d\\n\", cudaGetErrorString( err ),\n",
        "                file, line );\n",
        "        exit( EXIT_FAILURE );\n",
        "    }\n",
        "}\n",
        "\n",
        "#define N 1<<20\n",
        "\n",
        "__global__ void add( int *a, int *b, int *c ) \n",
        "{\n",
        "int tid = blockIdx.x; //handle the data at this index\n",
        "if (tid < N) \n",
        "  {\n",
        "    c[tid] = a[tid] + b[tid];\n",
        "  }\n",
        "}\n",
        "\n",
        "\n",
        "int main( void ) \n",
        "{\n",
        "  int a[N], b[N], c[N];\n",
        "  int *dev_a, *dev_b, *dev_c;\n",
        " \n",
        "/*allocate the memory on the GPU*/\n",
        "HANDLE_ERROR( cudaMalloc( (void**)&dev_a, N * sizeof(int) ) );\n",
        "HANDLE_ERROR( cudaMalloc( (void**)&dev_b, N * sizeof(int) ) );\n",
        "HANDLE_ERROR( cudaMalloc( (void**)&dev_c, N * sizeof(int) ) );\n",
        "\n",
        "// fill the arrays 'a' and 'b' on the CPU\n",
        "  for (int i=0; i<N; i++)   \n",
        "  {\n",
        "    a[i] = -i;\n",
        "    b[i] = i * i; \n",
        "  }\n",
        "\n",
        "//copy the content of arrays 'a' and 'b' to the GPU \n",
        "HANDLE_ERROR(cudaMemcpy(dev_a, a, N * sizeof(int),cudaMemcpyHostToDevice));\n",
        "HANDLE_ERROR(cudaMemcpy(dev_b, b, N * sizeof(int),cudaMemcpyHostToDevice));\n",
        "\n",
        "\n",
        "//launch the GPU Kernel\n",
        "add<<<N,1>>>( dev_a, dev_b, dev_c );  \n",
        " \n",
        " //copy the array 'c' back from the GPU to the CPU\n",
        " HANDLE_ERROR(cudaMemcpy(c, dev_c, N * sizeof(int),cudaMemcpyDeviceToHost));\n",
        "\n",
        "/*display the results*/\n",
        "for (int i=0; i<N; i++) \n",
        "{\n",
        "  printf( \"%d + %d = %d\\n\", a[i], b[i], c[i] );\n",
        "}\n",
        "\n",
        "\n",
        "//Free the memory allocated to the GPU\n",
        " cudaFree(dev_a);\n",
        " cudaFree(dev_b);\n",
        " cudaFree(dev_c);\n",
        "\n",
        "return 0;\n",
        "}\n"
      ],
      "execution_count": 61,
      "outputs": [
        {
          "output_type": "execute_result",
          "data": {
            "text/plain": [
              "'File written in /content/src/my_vector.cu'"
            ]
          },
          "metadata": {
            "tags": []
          },
          "execution_count": 61
        }
      ]
    },
    {
      "cell_type": "code",
      "metadata": {
        "id": "Mn1ha_uA8bgT",
        "colab_type": "code",
        "colab": {
          "base_uri": "https://localhost:8080/",
          "height": 34
        },
        "outputId": "9bd323ce-eda6-4bf4-8461-9ccdf003d46f"
      },
      "source": [
        "!nvprof ./2"
      ],
      "execution_count": 63,
      "outputs": [
        {
          "output_type": "stream",
          "text": [
            "======== Error: application not found.\n"
          ],
          "name": "stdout"
        }
      ]
    },
    {
      "cell_type": "code",
      "metadata": {
        "id": "X6b5EKbX8ib1",
        "colab_type": "code",
        "colab": {
          "base_uri": "https://localhost:8080/",
          "height": 34
        },
        "outputId": "1a337662-de13-4d12-d1a9-bea250094e78"
      },
      "source": [
        "!ls\n"
      ],
      "execution_count": 64,
      "outputs": [
        {
          "output_type": "stream",
          "text": [
            "my_vector.cu  sample_data  src\n"
          ],
          "name": "stdout"
        }
      ]
    }
  ]
}